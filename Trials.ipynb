{
 "cells": [
  {
   "cell_type": "code",
   "execution_count": 1,
   "metadata": {
    "ExecuteTime": {
     "end_time": "2019-02-05T13:42:04.971376Z",
     "start_time": "2019-02-05T13:42:03.429502Z"
    }
   },
   "outputs": [],
   "source": [
    "import numpy as np   \n",
    "import h5py\n",
    "import matplotlib.pyplot as plt\n",
    "from scipy.interpolate import RegularGridInterpolator"
   ]
  },
  {
   "cell_type": "code",
   "execution_count": 2,
   "metadata": {
    "ExecuteTime": {
     "end_time": "2019-02-05T13:42:04.977360Z",
     "start_time": "2019-02-05T13:42:04.972373Z"
    }
   },
   "outputs": [
    {
     "data": {
      "text/plain": [
       "['data']"
      ]
     },
     "execution_count": 2,
     "metadata": {},
     "output_type": "execute_result"
    }
   ],
   "source": [
    "f = h5py.File('k.h5', 'r') \n",
    "list(f.keys())"
   ]
  },
  {
   "cell_type": "code",
   "execution_count": 3,
   "metadata": {
    "ExecuteTime": {
     "end_time": "2019-02-05T13:42:04.999301Z",
     "start_time": "2019-02-05T13:42:04.981349Z"
    }
   },
   "outputs": [
    {
     "data": {
      "text/plain": [
       "(64, 64, 64)"
      ]
     },
     "execution_count": 3,
     "metadata": {},
     "output_type": "execute_result"
    }
   ],
   "source": [
    "dset = f[u'data']\n",
    "dset.shape\n",
    "dset.value.shape"
   ]
  },
  {
   "cell_type": "code",
   "execution_count": 4,
   "metadata": {
    "ExecuteTime": {
     "end_time": "2019-02-05T13:42:05.005286Z",
     "start_time": "2019-02-05T13:42:05.001296Z"
    },
    "scrolled": false
   },
   "outputs": [],
   "source": [
    "# list(dset)"
   ]
  },
  {
   "cell_type": "code",
   "execution_count": 5,
   "metadata": {
    "ExecuteTime": {
     "end_time": "2019-02-05T13:42:05.016256Z",
     "start_time": "2019-02-05T13:42:05.007281Z"
    }
   },
   "outputs": [
    {
     "data": {
      "text/plain": [
       "array([1.45666223e-05])"
      ]
     },
     "execution_count": 5,
     "metadata": {},
     "output_type": "execute_result"
    }
   ],
   "source": [
    "dset[0:64,0:64,0:64]\n",
    "x = np.linspace(-160, 160, 64) \n",
    "y = np.linspace(-160, 160, 64)\n",
    "z = np.linspace(-160, 160, 64)\n",
    "my_interpolating_function = RegularGridInterpolator((x, y, z), dset.value)\n",
    "pts = np.array([4.5, 15.3, 18.8]) \n",
    "my_interpolating_function(pts)"
   ]
  },
  {
   "cell_type": "code",
   "execution_count": 9,
   "metadata": {
    "ExecuteTime": {
     "end_time": "2019-02-05T13:43:14.749737Z",
     "start_time": "2019-02-05T13:43:14.744750Z"
    }
   },
   "outputs": [
    {
     "data": {
      "text/plain": [
       "array([1.12504124e-05, 1.03547969e-05])"
      ]
     },
     "execution_count": 9,
     "metadata": {},
     "output_type": "execute_result"
    }
   ],
   "source": [
    "pts = np.array([[2.1, 6.2, 8.3], [3.3, 5.2, 7.1]])\n",
    "my_interpolating_function(pts)"
   ]
  },
  {
   "cell_type": "code",
   "execution_count": 11,
   "metadata": {
    "ExecuteTime": {
     "end_time": "2019-02-05T13:43:59.959384Z",
     "start_time": "2019-02-05T13:43:59.953399Z"
    }
   },
   "outputs": [
    {
     "data": {
      "text/plain": [
       "-2.896601605568157e-05"
      ]
     },
     "execution_count": 11,
     "metadata": {},
     "output_type": "execute_result"
    }
   ],
   "source": [
    "dset.value[0][0][0]"
   ]
  },
  {
   "cell_type": "code",
   "execution_count": 13,
   "metadata": {
    "ExecuteTime": {
     "end_time": "2019-02-05T13:48:31.124816Z",
     "start_time": "2019-02-05T13:48:31.093786Z"
    }
   },
   "outputs": [],
   "source": [
    "# Apply gradient function\n",
    "gradx, grady, gradz = np.gradient(dset.value)"
   ]
  },
  {
   "cell_type": "code",
   "execution_count": 15,
   "metadata": {
    "ExecuteTime": {
     "end_time": "2019-02-05T13:49:55.675053Z",
     "start_time": "2019-02-05T13:49:55.671066Z"
    }
   },
   "outputs": [
    {
     "data": {
      "text/plain": [
       "(64, 64, 64)"
      ]
     },
     "execution_count": 15,
     "metadata": {},
     "output_type": "execute_result"
    }
   ],
   "source": [
    "gradx.shape"
   ]
  },
  {
   "cell_type": "code",
   "execution_count": 19,
   "metadata": {
    "ExecuteTime": {
     "end_time": "2019-02-05T13:54:37.381331Z",
     "start_time": "2019-02-05T13:54:37.377315Z"
    }
   },
   "outputs": [],
   "source": [
    "# To find the gradient at any point\n",
    "gradx_interpol = RegularGridInterpolator((x, y, z), gradx)\n",
    "grady_interpol = RegularGridInterpolator((x, y, z), grady)\n",
    "gradz_interpol = RegularGridInterpolator((x, y, z), gradz)"
   ]
  },
  {
   "cell_type": "code",
   "execution_count": 20,
   "metadata": {
    "ExecuteTime": {
     "end_time": "2019-02-05T13:54:40.983830Z",
     "start_time": "2019-02-05T13:54:40.979842Z"
    }
   },
   "outputs": [],
   "source": [
    "def get_val_and_grads(pts):\n",
    "    v, x, y, z = my_interpolating_function(pts), gradx_interpol(\n",
    "        pts), grady_interpol(pts), gradz_interpol(pts)\n",
    "    return v, x, y, z"
   ]
  },
  {
   "cell_type": "code",
   "execution_count": 21,
   "metadata": {
    "ExecuteTime": {
     "end_time": "2019-02-05T13:54:41.499001Z",
     "start_time": "2019-02-05T13:54:41.494014Z"
    }
   },
   "outputs": [
    {
     "data": {
      "text/plain": [
       "(array([1.12504124e-05, 1.03547969e-05]),\n",
       " array([-2.39047460e-06, -2.22773045e-06]),\n",
       " array([-2.27256280e-06, -2.52994627e-06]),\n",
       " array([3.58920755e-06, 3.78501885e-06]))"
      ]
     },
     "execution_count": 21,
     "metadata": {},
     "output_type": "execute_result"
    }
   ],
   "source": [
    "get_val_and_grads(pts)"
   ]
  },
  {
   "cell_type": "code",
   "execution_count": null,
   "metadata": {},
   "outputs": [],
   "source": []
  }
 ],
 "metadata": {
  "kernelspec": {
   "display_name": "Python 3",
   "language": "python",
   "name": "python3"
  },
  "language_info": {
   "codemirror_mode": {
    "name": "ipython",
    "version": 3
   },
   "file_extension": ".py",
   "mimetype": "text/x-python",
   "name": "python",
   "nbconvert_exporter": "python",
   "pygments_lexer": "ipython3",
   "version": "3.7.1"
  }
 },
 "nbformat": 4,
 "nbformat_minor": 2
}
