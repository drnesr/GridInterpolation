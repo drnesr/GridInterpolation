{
 "cells": [
  {
   "cell_type": "code",
   "execution_count": 1,
   "metadata": {
    "ExecuteTime": {
     "end_time": "2019-02-05T13:19:01.190200Z",
     "start_time": "2019-02-05T13:18:58.912215Z"
    }
   },
   "outputs": [],
   "source": [
    "import numpy as np   \n",
    "import h5py\n",
    "import matplotlib.pyplot as plt\n",
    "from scipy.interpolate import RegularGridInterpolator"
   ]
  },
  {
   "cell_type": "code",
   "execution_count": 3,
   "metadata": {
    "ExecuteTime": {
     "end_time": "2019-02-05T13:25:58.242814Z",
     "start_time": "2019-02-05T13:25:58.230844Z"
    }
   },
   "outputs": [
    {
     "data": {
      "text/plain": [
       "['data']"
      ]
     },
     "execution_count": 3,
     "metadata": {},
     "output_type": "execute_result"
    }
   ],
   "source": [
    "f = h5py.File('k.h5', 'r') \n",
    "list(f.keys())"
   ]
  },
  {
   "cell_type": "code",
   "execution_count": 4,
   "metadata": {
    "ExecuteTime": {
     "end_time": "2019-02-05T13:26:20.006331Z",
     "start_time": "2019-02-05T13:26:19.995358Z"
    }
   },
   "outputs": [
    {
     "data": {
      "text/plain": [
       "(64, 64, 64)"
      ]
     },
     "execution_count": 4,
     "metadata": {},
     "output_type": "execute_result"
    }
   ],
   "source": [
    "dset = f[u'data']\n",
    "dset.shape\n",
    "dset.value.shape"
   ]
  },
  {
   "cell_type": "code",
   "execution_count": 7,
   "metadata": {
    "ExecuteTime": {
     "end_time": "2019-02-05T13:27:17.614109Z",
     "start_time": "2019-02-05T13:27:17.611116Z"
    },
    "scrolled": false
   },
   "outputs": [],
   "source": [
    "# list(dset)"
   ]
  },
  {
   "cell_type": "code",
   "execution_count": 8,
   "metadata": {
    "ExecuteTime": {
     "end_time": "2019-02-05T13:27:52.674291Z",
     "start_time": "2019-02-05T13:27:52.664345Z"
    }
   },
   "outputs": [
    {
     "data": {
      "text/plain": [
       "array([1.45666223e-05])"
      ]
     },
     "execution_count": 8,
     "metadata": {},
     "output_type": "execute_result"
    }
   ],
   "source": [
    "dset[0:64,0:64,0:64]\n",
    "x = np.linspace(-160, 160, 64) \n",
    "y = np.linspace(-160, 160, 64)\n",
    "z = np.linspace(-160, 160, 64)\n",
    "my_interpolating_function = RegularGridInterpolator((x, y, z), dset.value)\n",
    "pts = np.array([4.5, 15.3, 18.8]) \n",
    "my_interpolating_function(pts)"
   ]
  },
  {
   "cell_type": "code",
   "execution_count": null,
   "metadata": {},
   "outputs": [],
   "source": [
    "my_interpolating_function(pts)"
   ]
  }
 ],
 "metadata": {
  "kernelspec": {
   "display_name": "Python 3",
   "language": "python",
   "name": "python3"
  },
  "language_info": {
   "codemirror_mode": {
    "name": "ipython",
    "version": 3
   },
   "file_extension": ".py",
   "mimetype": "text/x-python",
   "name": "python",
   "nbconvert_exporter": "python",
   "pygments_lexer": "ipython3",
   "version": "3.7.1"
  }
 },
 "nbformat": 4,
 "nbformat_minor": 2
}
